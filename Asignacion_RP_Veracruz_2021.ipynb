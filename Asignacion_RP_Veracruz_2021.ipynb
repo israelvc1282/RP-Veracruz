{
  "nbformat": 4,
  "nbformat_minor": 0,
  "metadata": {
    "colab": {
      "provenance": [],
      "toc_visible": true
    },
    "kernelspec": {
      "name": "python3",
      "display_name": "Python 3"
    },
    "language_info": {
      "name": "python"
    }
  },
  "cells": [
    {
      "cell_type": "markdown",
      "source": [
        "#**Python Program to Allocate Proportional Representation (PR) Seats Using the 2021 Veracruz Election Data**\n"
      ],
      "metadata": {
        "id": "tAZZsmu0gPl-"
      }
    },
    {
      "cell_type": "markdown",
      "source": [
        "####**The main goal of this program is to compute and allocate the 20 proportional representation (PR) seats in accordance with the procedure established in articles 247 to 249 of the Electoral Code for the State of Veracruz**"
      ],
      "metadata": {
        "id": "kPOvY7CBNuB4"
      }
    },
    {
      "cell_type": "markdown",
      "source": [
        "###**1.- Import the libraries to be used**"
      ],
      "metadata": {
        "id": "oVudyzKmgZG5"
      }
    },
    {
      "cell_type": "code",
      "execution_count": null,
      "metadata": {
        "id": "Lp8Jjk7wgALG"
      },
      "outputs": [],
      "source": [
        "# Import libraries\n",
        "import pandas as pd\n",
        "import os\n",
        "import numpy as np\n",
        "from google.colab import drive\n",
        "import warnings\n",
        "warnings.filterwarnings('ignore')\n",
        "drive.mount(\"/content/drive\", force_remount=True)"
      ]
    },
    {
      "cell_type": "code",
      "source": [
        "# Import Veracruz data 2021 election\n",
        "root_path = \"drive/MyDrive/RP_Veracruz_2021\"\n",
        "orig = root_path + \"/original_db\"\n",
        "os.listdir(orig)"
      ],
      "metadata": {
        "id": "n_6du-h-ji5q"
      },
      "execution_count": null,
      "outputs": []
    },
    {
      "cell_type": "markdown",
      "source": [
        "###**2.- Generating a dataframe with the 2021 voting data**"
      ],
      "metadata": {
        "id": "HNxPMXJVokBL"
      }
    },
    {
      "cell_type": "code",
      "source": [
        "#Creating a dataframe with the 2021 voting data\n",
        "df_rp = pd.read_csv(orig + \"/RP_veracruz_2021.csv\")\n",
        "#Computing the total voting\n",
        "total_votos = df_rp['Votación'].sum()\n",
        "#Adding the rows with the sum of the total vote to the dataframe\n",
        "df_rp.loc[len(df_rp.index)] = ['Votación total', total_votos]\n",
        "df_rp"
      ],
      "metadata": {
        "id": "_ODwaKaKlEP3"
      },
      "execution_count": null,
      "outputs": []
    },
    {
      "cell_type": "markdown",
      "source": [
        "###**3.- Creating a filter for the valid vote cast and calculated the 3% threshold according to the Electoral Law of Veracruz.**"
      ],
      "metadata": {
        "id": "MbW_XhlSpBKI"
      }
    },
    {
      "cell_type": "code",
      "source": [
        "#Computing the valid vote cast by subtracting invalid votes (VN) and non-registered candidates (CNR)\n",
        "votos_nulos = df_rp.loc[df_rp['Partido'] == 'VN', 'Votación'].values[0]\n",
        "candidatos_no_registrados = df_rp.loc[df_rp['Partido'] == 'CNR', 'Votación'].values[0]\n",
        "votacion_valida_emitida = total_votos - votos_nulos - candidatos_no_registrados\n",
        "#Adding the row with the valid vote cast to the dataframe\n",
        "df_rp.loc[len(df_rp.index)] = ['Votación válida emitida', votacion_valida_emitida]\n",
        "#Creating a dataframe filter to exclude CNR, VN and Total Voting\n",
        "part_vve = df_rp[~df_rp['Partido'].isin(['CNR', 'VN', 'Votación total'])]\n",
        "#Filtered dataframe\n",
        "part_vve"
      ],
      "metadata": {
        "id": "TFPflWsKnXAs"
      },
      "execution_count": null,
      "outputs": []
    },
    {
      "cell_type": "code",
      "source": [
        "#Computing the 3% threshold to determine those parties that meet this criterion\n",
        "umbral_3 = votacion_valida_emitida * 0.03"
      ],
      "metadata": {
        "id": "aloghrNSpQlP"
      },
      "execution_count": null,
      "outputs": []
    },
    {
      "cell_type": "markdown",
      "source": [
        "###**4.- Computing the valid state vote cast for those parties that meet the 3% threshold**"
      ],
      "metadata": {
        "id": "J2Srows6rXhe"
      }
    },
    {
      "cell_type": "code",
      "source": [
        "#Filtering parties that meet the 3% of valid vote cast\n",
        "part_veve = df_rp[(df_rp['Votación'] >= umbral_3) & ~df_rp['Partido'].isin(['CNR', 'VN', 'Votación total', 'Votación válida emitida'])]\n",
        "#Computing the sum of the vote of the parties that meet the 3% threshold\n",
        "votacion_estatal_valida_emitida = part_veve['Votación'].sum()\n",
        "#Adding the row with the valid state vote cast to the filtered dataframe\n",
        "part_veve.loc[len(part_veve.index)] = ['Votación estatal válida emitida', votacion_estatal_valida_emitida]\n",
        "part_veve"
      ],
      "metadata": {
        "id": "rmIKbcVtptBl"
      },
      "execution_count": null,
      "outputs": []
    },
    {
      "cell_type": "markdown",
      "source": [
        "###**5.- Computing the natural quotient according to Veracruz law by dividing the valid state vote cast by the total number of PR seats to be distributed**"
      ],
      "metadata": {
        "id": "MAXCgcfgsBnM"
      }
    },
    {
      "cell_type": "code",
      "source": [
        "#Total number of seats to be distributed according to Veracruz electoral law\n",
        "total_escanos = 20\n",
        "#Computing natural quotien\n",
        "cociente_natural = votacion_estatal_valida_emitida / total_escanos\n",
        "cociente_natural_rounded = round(cociente_natural, 1)\n",
        "print(f'Cociente natural: {cociente_natural_rounded}')"
      ],
      "metadata": {
        "id": "o5ydeevcr21E"
      },
      "execution_count": null,
      "outputs": []
    },
    {
      "cell_type": "code",
      "source": [
        "#Eliminating the row Valid state vote cast\n",
        "part_veve = part_veve[part_veve['Partido'] != 'Votación estatal válida emitida']\n",
        "part_veve"
      ],
      "metadata": {
        "id": "lqnE_u0isfK7"
      },
      "execution_count": null,
      "outputs": []
    },
    {
      "cell_type": "markdown",
      "source": [
        "###**6.- Step 1: Allocation by natural quotient (NC)**"
      ],
      "metadata": {
        "id": "h3IIjS8mso0u"
      }
    },
    {
      "cell_type": "code",
      "source": [
        "#Step 1: Allocating by natural quotient (NC)\n",
        "part_veve['Escanos_CN'] = (part_veve['Votación'] // cociente_natural).astype(int)\n",
        "#Adding the column of the natural quotient for printing\n",
        "part_veve['Cociente_Natural'] = cociente_natural_rounded\n",
        "#Printing results by natural quotient excluding valid state vote cast\n",
        "part_veve[['Partido', 'Votación', 'Cociente_Natural', 'Escanos_CN']]\n",
        "#We can see that 16 seats are allocated by dividing the state vote cast and the natural quotient"
      ],
      "metadata": {
        "id": "ycKcZWdAsj9x"
      },
      "execution_count": null,
      "outputs": []
    },
    {
      "cell_type": "markdown",
      "source": [
        "###**7. Step 2: Allocation by the largest remainder method (LR)**"
      ],
      "metadata": {
        "id": "ri-i2M7wtWb2"
      }
    },
    {
      "cell_type": "code",
      "source": [
        "# Step 2: Allocating by the largest remainder method (Resto Mayor)\n",
        "# Number of seats remaining: 4 seats\n",
        "Escanos_RM = total_escanos - part_veve['Escanos_CN'].sum()\n",
        "print(f'Escanos RM: {Escanos_RM}')"
      ],
      "metadata": {
        "id": "VwoZZl7_tQG7"
      },
      "execution_count": null,
      "outputs": []
    },
    {
      "cell_type": "code",
      "source": [
        "#Computing the votes used and the largest remainder method\n",
        "part_veve['Votos_utilizados'] = part_veve['Escanos_CN'] * cociente_natural\n",
        "part_veve['Resto_mayor'] = part_veve['Votación'] - part_veve['Votos_utilizados']\n",
        "#We sort the parties by the largest remainder method in descending order\n",
        "part_veve = part_veve.sort_values(by='Resto_mayor', ascending=False)\n",
        "#Allocating the remaining seats to the parties with the largest remainder\n",
        "part_veve['Escanos_RM'] = 0\n",
        "part_veve.iloc[:Escanos_RM, part_veve.columns.get_loc('Escanos_RM')] = 1\n",
        "#Adding the NC seats and the LR seats to obtain the final allocation of the 20 seats\n",
        "part_veve['Escanos_totales'] = part_veve['Escanos_CN'] + part_veve['Escanos_RM']\n",
        "part_veve[['Partido', 'Votos_utilizados', 'Resto_mayor', 'Escanos_CN', 'Escanos_RM', 'Escanos_totales']]"
      ],
      "metadata": {
        "id": "qjTqHs1Lt3CP"
      },
      "execution_count": null,
      "outputs": []
    }
  ]
}